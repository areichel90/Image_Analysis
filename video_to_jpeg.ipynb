{
 "cells": [
  {
   "cell_type": "code",
   "execution_count": 47,
   "metadata": {
    "scrolled": false
   },
   "outputs": [
    {
     "name": "stdout",
     "output_type": "stream",
     "text": [
      "Videos in root:  ['Herd Of Cows.mp4']\n",
      "Directories in root:  ['output_12152018']\n"
     ]
    }
   ],
   "source": [
    "\"\"\"\n",
    "Notebook to take in video file and export as series of still frames.  To be used in semantic segmenation work.\n",
    "\"\"\"\n",
    "import matplotlib.pyplot as plt\n",
    "import cv2 as cv\n",
    "import numpy as np\n",
    "import pandas as pd\n",
    "import os\n",
    "%matplotlib inline\n",
    "\n",
    "rootdir = \"/Users/andrewreichel/Documents/grass_segmentation/\"\n",
    "\n",
    "#generate list of videos and directories in root directory\n",
    "vids_list = []\n",
    "dirs_list = []\n",
    "for roots, dirs, files in os.walk(rootdir):\n",
    "    for file in files:\n",
    "        if file.endswith('mp4'):\n",
    "            vids_list.append(file)\n",
    "    for dirs in dirs:\n",
    "        if dirs[-11:] != 'checkpoints': #does not record jupyter 'checkpoints'\n",
    "            dirs_list.append(dirs)\n",
    "            \n",
    "print \"Videos in root: \", vids_list\n",
    "print \"Directories in root: \", dirs_list"
   ]
  },
  {
   "cell_type": "code",
   "execution_count": 39,
   "metadata": {
    "scrolled": false
   },
   "outputs": [
    {
     "name": "stdout",
     "output_type": "stream",
     "text": [
      "Reading: Herd Of Cows.mp4\n",
      "\n",
      "File Metadata:\n",
      "Frame size: 1080,1920 (h x w)\n",
      "Video Frame Rate: 25fps\n",
      "Length of Video: 492 frames\n",
      "Video Duration: 205 min\n"
     ]
    }
   ],
   "source": [
    "\"\"\"\n",
    "open video file, and save frames to \"save_dir\" as jpeg\n",
    "\"\"\"\n",
    "file_in = vids_list[0]\n",
    "print \"Converting:\", file_in\n",
    "#load in video\n",
    "vid_cap = cv.VideoCapture(rootdir+file_in)\n",
    "\n",
    "#display image data\n",
    "width = vid_cap.get(3)\n",
    "height = vid_cap.get(4)\n",
    "ffps = vid_cap.get(5)\n",
    "length = vid_cap.get(7) \n",
    "duration = (ffps*length)/60 #minutes\n",
    "\n",
    "file_metadata =[height,width,ffps,length,duration]\n",
    "\n",
    "print \"\\nFile Metadata:\"\n",
    "print \"Frame size: %d,%d (h x w)\"%(height,width)\n",
    "print \"Video Frame Rate: %ifps\"%ffps\n",
    "print \"Length of Video: %i frames\"%length\n",
    "print \"Video Duration: %i min\"%duration\n",
    "\n"
   ]
  },
  {
   "cell_type": "code",
   "execution_count": 45,
   "metadata": {},
   "outputs": [
    {
     "name": "stdout",
     "output_type": "stream",
     "text": [
      "Processing Frame: 0\n",
      "Processing Frame: 1\n",
      "Processing Frame: 2\n",
      "Processing Frame: 3\n",
      "Processing Frame: 4\n",
      "Processing Frame: 5\n",
      "\n",
      "Max number of frames reached!\n",
      "Aborting export.\n"
     ]
    }
   ],
   "source": [
    "frame_num = 0\n",
    "num_max = 5\n",
    "while vid_cap.isOpened():\n",
    "    print \"Processing Frame: %i\"%frame_num\n",
    "    #Capture frame-by-frame\n",
    "    ret, image = vid_cap.read()\n",
    "    if ret == True:\n",
    "        frame = image\n",
    "        \n",
    "    #Display resulting frame\n",
    "    '''cv.imshow('test_0',frame)'''\n",
    "    #Write frame out as 'jpg'\n",
    "    save_dir = rootdir + dirs_list[0] + \"/\"\n",
    "    cv.imwrite(save_dir + \"test_0_%d.jpg\"%frame_num,image)\n",
    "    \n",
    "    #print \"end of frames\" for last frame\n",
    "    if frame_num == num_max:\n",
    "        print \"\\nMax number of frames reached!\\nAborting export.\"\n",
    "        break\n",
    "    else: \n",
    "        frame_num +=1\n",
    "    if cv.waitKey(25) & 0xFF == ord('q'):\n",
    "        break"
   ]
  },
  {
   "cell_type": "code",
   "execution_count": 44,
   "metadata": {},
   "outputs": [
    {
     "name": "stdout",
     "output_type": "stream",
     "text": [
      "[ 89 247 246]\n"
     ]
    },
    {
     "data": {
      "text/plain": [
       "1080"
      ]
     },
     "execution_count": 44,
     "metadata": {},
     "output_type": "execute_result"
    }
   ],
   "source": [
    "ret, image = vid_cap.read()\n",
    "\n",
    "print image[0][0]\n",
    "len(image)"
   ]
  },
  {
   "cell_type": "code",
   "execution_count": null,
   "metadata": {},
   "outputs": [],
   "source": []
  }
 ],
 "metadata": {
  "kernelspec": {
   "display_name": "Python 2",
   "language": "python",
   "name": "python2"
  },
  "language_info": {
   "codemirror_mode": {
    "name": "ipython",
    "version": 2
   },
   "file_extension": ".py",
   "mimetype": "text/x-python",
   "name": "python",
   "nbconvert_exporter": "python",
   "pygments_lexer": "ipython2",
   "version": "2.7.15"
  }
 },
 "nbformat": 4,
 "nbformat_minor": 2
}
